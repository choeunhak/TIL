{
 "cells": [
  {
   "cell_type": "code",
   "execution_count": null,
   "metadata": {},
   "outputs": [],
   "source": [
    "\n",
    "import urllib.request as req\n",
    "\n",
    "local = \"data/mushroom.csv\"\n",
    "url = \"https://archive.ics.uci.edu/ml/machine-learning-databases/mushroom/agaricus-lepiota.data\"\n",
    "req.urlretrieve(url, local)"
   ]
  },
  {
   "cell_type": "code",
   "execution_count": null,
   "metadata": {},
   "outputs": [],
   "source": [
    "import pandas as pd\n",
    "from sklearn.ensemble import RandomForestClassifier\n",
    "from sklearn import metrics\n",
    "from sklearn.model_selection import train_test_split\n",
    "\n",
    "# 데이터 읽어들이기\n",
    "mr = pd.read_csv(\"mushroom.csv\", header=None)\n",
    "\n",
    "# label 분리\n",
    "df = pd.DataFrame(mr.iloc[:, 0]) # column 1개만 선택하면 Series가 되므로 다시 dataframe으로 만듦\n",
    "\n",
    "# 두 번째 column부터 마지막 column까지 one-hot encoding하고 label에 붙임\n",
    "df = df.join(pd.get_dummies(mr.iloc[:, 1:]))\n",
    "print(df)"
   ]
  },
  {
   "cell_type": "code",
   "execution_count": null,
   "metadata": {},
   "outputs": [],
   "source": [
    "data = df.iloc[:, 1:]\n",
    "label = df.loc[:, 0]\n",
    "\n",
    "data_train, data_test, label_train, label_test = train_test_split(data, label, test_size=0.9)\n",
    "\n",
    "# n_estimators = decision tree 개수. 1이면 random forests라고 할 수 없음\n",
    "clf = RandomForestClassifier(n_estimators=1, criterion=\"entropy\")\n",
    "clf.fit(data_train, label_train)\n",
    "\n",
    "predict = clf.predict(data_test)\n",
    "\n",
    "result = pd.DataFrame({\"label\": label_test, \"pre\": predict})\n",
    "print(result[0:10])"
   ]
  }
 ],
 "metadata": {
  "kernelspec": {
   "display_name": "Python 3",
   "language": "python",
   "name": "python3"
  },
  "language_info": {
   "codemirror_mode": {
    "name": "ipython",
    "version": 3
   },
   "file_extension": ".py",
   "mimetype": "text/x-python",
   "name": "python",
   "nbconvert_exporter": "python",
   "pygments_lexer": "ipython3",
   "version": "3.8.5"
  }
 },
 "nbformat": 4,
 "nbformat_minor": 4
}
